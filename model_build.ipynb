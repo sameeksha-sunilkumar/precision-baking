
model = tf.keras.Sequential([
    tf.keras.layers.Dense(16, activation='relu', input_shape=(X_train.shape[1],)),  
    tf.keras.layers.Dense(8, activation='relu'),  
    tf.keras.layers.Dense(1)  
])

model.compile(optimizer='adam', loss='mse', metrics=['mae'])

model.fit(X_train, y_train, epochs=100, batch_size=8, validation_data=(X_test, y_test))

model.save("ingredient_mass_model.h5")
