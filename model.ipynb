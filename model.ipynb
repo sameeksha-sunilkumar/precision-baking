import pandas as pd
import numpy as np
import tensorflow as tf
from sklearn.model_selection import train_test_split
from sklearn.preprocessing import StandardScaler, OneHotEncoder

df = pd.read_csv("Copy_of_Fillet.csv")

volume_conversion = {

    "1 cup": 1.0, "1/2 cup": 0.5, "1/4 cup": 0.25,
    "1 teaspoon": 1/48, "1/2 teaspoon": 1/96,
    "2 tablespoons": 2/16, "1 tablespoon": 1/16
    
}
df["volume"] = df["volume"].map(volume_conversion)

encoder = OneHotEncoder(sparse=False)
ingredient_encoded = encoder.fit_transform(df[["ingredient"]])

X = np.hstack((ingredient_encoded, df[["volume"]].values))
y = df["mass"].values  

scaler = StandardScaler()
X_scaled = scaler.fit_transform(X)

X_train, X_test, y_train, y_test = train_test_split(X_scaled, y, test_size=0.2, random_state=42)
